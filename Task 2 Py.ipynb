{
 "cells": [
  {
   "cell_type": "markdown",
   "id": "e1a0a8da-015c-4b2e-b609-b795fd83722d",
   "metadata": {},
   "source": [
    "# 1-Capitalize"
   ]
  },
  {
   "cell_type": "code",
   "execution_count": 37,
   "id": "927a015b-9d73-4597-9338-ad4cfadd29f8",
   "metadata": {},
   "outputs": [
    {
     "name": "stdout",
     "output_type": "stream",
     "text": [
      "1.heyy,i am here.\n"
     ]
    }
   ],
   "source": [
    "a=\"1.heyy,i am here.\"\n",
    "b=a.capitalize()\n",
    "print (b)"
   ]
  },
  {
   "cell_type": "code",
   "execution_count": 39,
   "id": "c1f155cc-723f-4247-8205-1467d6ccf185",
   "metadata": {},
   "outputs": [
    {
     "name": "stdout",
     "output_type": "stream",
     "text": [
      "2.data analytics\n"
     ]
    }
   ],
   "source": [
    "a=\"2.data analytics\"\n",
    "b=a.capitalize()\n",
    "print (b)"
   ]
  },
  {
   "cell_type": "markdown",
   "id": "a5cf029f-d3be-4776-bea2-e9d0163dc72b",
   "metadata": {},
   "source": [
    "# 2-Casefold\n"
   ]
  },
  {
   "cell_type": "code",
   "execution_count": 41,
   "id": "73a21379-3363-4629-a33d-771d43fc5d63",
   "metadata": {},
   "outputs": [
    {
     "name": "stdout",
     "output_type": "stream",
     "text": [
      "1.heyy,i am here\n"
     ]
    }
   ],
   "source": [
    "a= \"1.Heyy,I Am Here\"\n",
    "b=a.casefold()\n",
    "print (b)\n"
   ]
  },
  {
   "cell_type": "code",
   "execution_count": 43,
   "id": "7d224653-496a-4640-8313-20add9f80c66",
   "metadata": {},
   "outputs": [
    {
     "name": "stdout",
     "output_type": "stream",
     "text": [
      "2.heyy,i am coming\n"
     ]
    }
   ],
   "source": [
    "a= \"2.Heyy,I Am Coming\"\n",
    "b=a.casefold()\n",
    "print (b)\n"
   ]
  },
  {
   "cell_type": "markdown",
   "id": "0113b2aa-a470-4c8e-a596-bb199b122202",
   "metadata": {},
   "source": [
    "# 3-Center\n"
   ]
  },
  {
   "cell_type": "code",
   "execution_count": 45,
   "id": "79c33a91-1384-45ab-8cf9-7b2cc9741b8b",
   "metadata": {},
   "outputs": [
    {
     "name": "stdout",
     "output_type": "stream",
     "text": [
      "        1.Krishna        \n"
     ]
    }
   ],
   "source": [
    "a= \"1.Krishna\"\n",
    "b=a.center(25)\n",
    "print (b)\n"
   ]
  },
  {
   "cell_type": "code",
   "execution_count": 47,
   "id": "bd5aa17d-0d7b-4a6a-9d47-81d15adb35ec",
   "metadata": {},
   "outputs": [
    {
     "name": "stdout",
     "output_type": "stream",
     "text": [
      "         2.Shlok         \n"
     ]
    }
   ],
   "source": [
    "a= \"2.Shlok\"\n",
    "b=a.center(25)\n",
    "print (b)\n"
   ]
  },
  {
   "cell_type": "markdown",
   "id": "5bcc7917-1610-4162-9ee8-6f6d5904e961",
   "metadata": {},
   "source": [
    "# 4-Count\n"
   ]
  },
  {
   "cell_type": "code",
   "execution_count": 51,
   "id": "319b0e15-0695-4b34-a761-04d89e15d529",
   "metadata": {},
   "outputs": [
    {
     "name": "stdout",
     "output_type": "stream",
     "text": [
      "2\n"
     ]
    }
   ],
   "source": [
    "a=\"1.Hellow folks,What's going on folks?\"\n",
    "b=a.count(\"folks\")\n",
    "print (b)\n"
   ]
  },
  {
   "cell_type": "code",
   "execution_count": 53,
   "id": "f2d567ad-1205-4fd0-a66a-df96efcde66f",
   "metadata": {},
   "outputs": [
    {
     "name": "stdout",
     "output_type": "stream",
     "text": [
      "2\n"
     ]
    }
   ],
   "source": [
    "a=\"Hellow aman,What's going on aman?\"\n",
    "b=a.count(\"aman\")\n",
    "print (b)\n"
   ]
  },
  {
   "cell_type": "markdown",
   "id": "c5db84fa-b72f-4950-8702-422204ff1f13",
   "metadata": {},
   "source": [
    "# 5-Encode\n"
   ]
  },
  {
   "cell_type": "code",
   "execution_count": 86,
   "id": "7e2e7acb-6baa-4f09-8f36-a32715ab0da0",
   "metadata": {},
   "outputs": [
    {
     "name": "stdout",
     "output_type": "stream",
     "text": [
      "b'Sn~ehal@'\n"
     ]
    }
   ],
   "source": [
    "a='Sn~ehal@'\n",
    "b=a.encode()\n",
    "print (b)"
   ]
  },
  {
   "cell_type": "code",
   "execution_count": 90,
   "id": "f1021e78-7833-429b-b3a1-262a6f19c96b",
   "metadata": {},
   "outputs": [
    {
     "name": "stdout",
     "output_type": "stream",
     "text": [
      "b'Seja~*'\n"
     ]
    }
   ],
   "source": [
    "a=\"Seja~*\"\n",
    "b=a.encode()\n",
    "print (b)"
   ]
  },
  {
   "cell_type": "markdown",
   "id": "1218e74e-8c8a-4a24-baf0-0e4a84b7b7a4",
   "metadata": {},
   "source": [
    "# 6-Endswith"
   ]
  },
  {
   "cell_type": "code",
   "execution_count": 71,
   "id": "1d1aaf00-bfc9-4b83-97a7-22822c7a72b9",
   "metadata": {},
   "outputs": [
    {
     "name": "stdout",
     "output_type": "stream",
     "text": [
      "True\n"
     ]
    }
   ],
   "source": [
    "a=\"Sunita.\"\n",
    "b=a.endswith(\".\")\n",
    "print (b)"
   ]
  },
  {
   "cell_type": "code",
   "execution_count": 75,
   "id": "48475063-2fe0-46b7-aa64-b7213d1558c0",
   "metadata": {},
   "outputs": [
    {
     "name": "stdout",
     "output_type": "stream",
     "text": [
      "False\n"
     ]
    }
   ],
   "source": [
    "a=\"Heyy.\"\n",
    "b=a.endswith(\"!\")\n",
    "print (b)"
   ]
  },
  {
   "cell_type": "markdown",
   "id": "6f505553-dfbe-4935-809c-7bc4d2067da9",
   "metadata": {},
   "source": [
    "# 7-Find"
   ]
  },
  {
   "cell_type": "code",
   "execution_count": 95,
   "id": "cb3bd404-04f6-4c0f-8fbc-01ffbdc0f694",
   "metadata": {},
   "outputs": [
    {
     "name": "stdout",
     "output_type": "stream",
     "text": [
      "7\n"
     ]
    }
   ],
   "source": [
    "a=\"I like to play outside\"\n",
    "b=a.find(\"to\")\n",
    "print (b)"
   ]
  },
  {
   "cell_type": "code",
   "execution_count": 97,
   "id": "caf9f1ca-0aaa-4e5e-a95b-875c0143c942",
   "metadata": {},
   "outputs": [
    {
     "name": "stdout",
     "output_type": "stream",
     "text": [
      "24\n"
     ]
    }
   ],
   "source": [
    "a=\"Don't you think weather is great today\"\n",
    "b=a.find(\"is\")\n",
    "print (b)"
   ]
  },
  {
   "cell_type": "markdown",
   "id": "f3e2a582-491f-4f6f-a3c9-b9d667ae7e65",
   "metadata": {},
   "source": [
    "# 8-Format"
   ]
  },
  {
   "cell_type": "code",
   "execution_count": 112,
   "id": "44cf217f-39d6-4600-9b10-ccec5acdb892",
   "metadata": {},
   "outputs": [
    {
     "name": "stdout",
     "output_type": "stream",
     "text": [
      "My name is Snehal.\n"
     ]
    }
   ],
   "source": [
    "a='My name is {name}.'\n",
    "b=a.format(name='Snehal')\n",
    "print (b)"
   ]
  },
  {
   "cell_type": "code",
   "execution_count": 116,
   "id": "647be229-260a-4d8e-bbcf-b633803e79b5",
   "metadata": {},
   "outputs": [
    {
     "name": "stdout",
     "output_type": "stream",
     "text": [
      "I am student of Computer Engineer.\n"
     ]
    }
   ],
   "source": [
    "a='I am student of {department}.'\n",
    "b=a.format(department='Computer Engineer')\n",
    "print (b)"
   ]
  },
  {
   "cell_type": "markdown",
   "id": "4ae81f9b-44a8-425a-80e6-f8f469291585",
   "metadata": {},
   "source": [
    "# 9-Index"
   ]
  },
  {
   "cell_type": "code",
   "execution_count": 123,
   "id": "afd2086c-765b-4ced-97f3-7fd39506298d",
   "metadata": {},
   "outputs": [
    {
     "name": "stdout",
     "output_type": "stream",
     "text": [
      "15\n"
     ]
    }
   ],
   "source": [
    "a=\"This is Python Task\"\n",
    "b=a.find(\"Task\")\n",
    "print (b)"
   ]
  },
  {
   "cell_type": "code",
   "execution_count": 125,
   "id": "8f0be47f-968a-4919-959b-b04cd01262db",
   "metadata": {},
   "outputs": [
    {
     "name": "stdout",
     "output_type": "stream",
     "text": [
      "23\n"
     ]
    }
   ],
   "source": [
    "a=\"I like to play Cricket in outside\"\n",
    "b=a.find(\"in\")\n",
    "print (b)"
   ]
  },
  {
   "cell_type": "markdown",
   "id": "1537375d-6ee9-4b6c-a3b8-ee7ed9a7fb7d",
   "metadata": {},
   "source": [
    "# 10-Isalnum"
   ]
  },
  {
   "cell_type": "code",
   "execution_count": 128,
   "id": "5f57220d-c56e-4208-9357-d39444dfff45",
   "metadata": {},
   "outputs": [
    {
     "name": "stdout",
     "output_type": "stream",
     "text": [
      "True\n"
     ]
    }
   ],
   "source": [
    "a='Factory20'\n",
    "b=a.isalnum()\n",
    "print (b)"
   ]
  },
  {
   "cell_type": "code",
   "execution_count": 130,
   "id": "cdeb6af4-349c-4efc-a5ad-59332c656096",
   "metadata": {},
   "outputs": [
    {
     "name": "stdout",
     "output_type": "stream",
     "text": [
      "False\n"
     ]
    }
   ],
   "source": [
    "a='Company@'\n",
    "b=a.isalnum()\n",
    "print (b)"
   ]
  },
  {
   "cell_type": "markdown",
   "id": "32e14993-f0d0-44fa-bc5f-66aefadd0212",
   "metadata": {},
   "source": [
    "# 11-Isalpha"
   ]
  },
  {
   "cell_type": "code",
   "execution_count": 134,
   "id": "51daff32-71da-4c86-94d0-92b33b0cff6c",
   "metadata": {},
   "outputs": [
    {
     "name": "stdout",
     "output_type": "stream",
     "text": [
      "True\n"
     ]
    }
   ],
   "source": [
    "a='StudentDA'\n",
    "b=a.isalpha()\n",
    "print (b)"
   ]
  },
  {
   "cell_type": "code",
   "execution_count": 136,
   "id": "9b785e6b-70bb-4a81-a1ec-1c2568d32263",
   "metadata": {},
   "outputs": [
    {
     "name": "stdout",
     "output_type": "stream",
     "text": [
      "False\n"
     ]
    }
   ],
   "source": [
    "a='Data Analytics 2'\n",
    "b=a.isalpha()\n",
    "print (b)"
   ]
  },
  {
   "cell_type": "markdown",
   "id": "60e2ebc4-8efe-479d-acdf-d00ac2f70019",
   "metadata": {},
   "source": [
    "# 12-Isascii"
   ]
  },
  {
   "cell_type": "code",
   "execution_count": 139,
   "id": "5e3c4f49-8e45-42bb-968a-4aaf632a4aad",
   "metadata": {},
   "outputs": [
    {
     "name": "stdout",
     "output_type": "stream",
     "text": [
      "True\n"
     ]
    }
   ],
   "source": [
    "a='DA9@21!'\n",
    "b=a.isascii()\n",
    "print (b)"
   ]
  },
  {
   "cell_type": "code",
   "execution_count": 143,
   "id": "fccc3713-ba3f-444e-8c13-ee4130245ccd",
   "metadata": {},
   "outputs": [
    {
     "name": "stdout",
     "output_type": "stream",
     "text": [
      "True\n"
     ]
    }
   ],
   "source": [
    "a='DA9STUDENT'\n",
    "b=a.isascii()\n",
    "print (b)"
   ]
  },
  {
   "cell_type": "markdown",
   "id": "ebfe8b15-6b21-4a1a-8aab-770fcafc584c",
   "metadata": {},
   "source": [
    "# 13-Isdecimal"
   ]
  },
  {
   "cell_type": "code",
   "execution_count": 146,
   "id": "9ef6c993-2119-4eec-b977-2d54a0bc6421",
   "metadata": {},
   "outputs": [
    {
     "name": "stdout",
     "output_type": "stream",
     "text": [
      "True\n"
     ]
    }
   ],
   "source": [
    "a='4333'\n",
    "b=a.isdecimal()\n",
    "print (b)"
   ]
  },
  {
   "cell_type": "code",
   "execution_count": 148,
   "id": "f02fd167-a7e8-489a-b504-3d061bd9e3d4",
   "metadata": {},
   "outputs": [
    {
     "name": "stdout",
     "output_type": "stream",
     "text": [
      "False\n"
     ]
    }
   ],
   "source": [
    "a='4.3.3.3'\n",
    "b=a.isdecimal()\n",
    "print (b)"
   ]
  },
  {
   "cell_type": "markdown",
   "id": "c30c56e8-1590-4619-ae9a-cafdf59c9475",
   "metadata": {},
   "source": [
    "# 14-Isdigit"
   ]
  },
  {
   "cell_type": "code",
   "execution_count": 151,
   "id": "85d403cc-7d91-4adb-8b37-f30380f78571",
   "metadata": {},
   "outputs": [
    {
     "name": "stdout",
     "output_type": "stream",
     "text": [
      "True\n"
     ]
    }
   ],
   "source": [
    "a='304333'\n",
    "b=a.isdigit()\n",
    "print (b)"
   ]
  },
  {
   "cell_type": "code",
   "execution_count": 153,
   "id": "b23d4d2b-66df-40f7-b2f4-1583c8622835",
   "metadata": {},
   "outputs": [
    {
     "name": "stdout",
     "output_type": "stream",
     "text": [
      "False\n"
     ]
    }
   ],
   "source": [
    "a='Ju4333'\n",
    "b=a.isdecimal()\n",
    "print (b)"
   ]
  },
  {
   "cell_type": "markdown",
   "id": "b7ec2964-691d-4190-81e4-963e5a6a4b1d",
   "metadata": {},
   "source": [
    "# 15-Isidentifier"
   ]
  },
  {
   "cell_type": "code",
   "execution_count": 156,
   "id": "6cbef43a-3dad-435f-8646-12e329aea24b",
   "metadata": {},
   "outputs": [
    {
     "name": "stdout",
     "output_type": "stream",
     "text": [
      "True\n"
     ]
    }
   ],
   "source": [
    "a='Praju'\n",
    "b=a.isidentifier()\n",
    "print (b)"
   ]
  },
  {
   "cell_type": "code",
   "execution_count": 158,
   "id": "d74247e2-de09-4b33-a223-d189139c7c0d",
   "metadata": {},
   "outputs": [
    {
     "name": "stdout",
     "output_type": "stream",
     "text": [
      "False\n"
     ]
    }
   ],
   "source": [
    "a='Pr@ju'\n",
    "b=a.isidentifier()\n",
    "print (b)"
   ]
  },
  {
   "cell_type": "markdown",
   "id": "96e804fa-04dd-4d8d-91ac-0019c46cdba8",
   "metadata": {},
   "source": [
    "# 16-Islower"
   ]
  },
  {
   "cell_type": "code",
   "execution_count": 161,
   "id": "bebff643-dec5-49e6-a318-340eed47469c",
   "metadata": {},
   "outputs": [
    {
     "name": "stdout",
     "output_type": "stream",
     "text": [
      "False\n"
     ]
    }
   ],
   "source": [
    "a='We ARe vErY HaPPy'\n",
    "b=a.islower()\n",
    "print (b)"
   ]
  },
  {
   "cell_type": "code",
   "execution_count": 163,
   "id": "bab320b2-f1d0-44b8-a051-de2b96521315",
   "metadata": {},
   "outputs": [
    {
     "name": "stdout",
     "output_type": "stream",
     "text": [
      "True\n"
     ]
    }
   ],
   "source": [
    "a='we are very happy'\n",
    "b=a.islower()\n",
    "print (b)"
   ]
  },
  {
   "cell_type": "markdown",
   "id": "7a87cb16-1df9-4e8f-b5ab-7e8504d8f5ec",
   "metadata": {},
   "source": [
    "# 17-Isnumeric"
   ]
  },
  {
   "cell_type": "code",
   "execution_count": 166,
   "id": "b3bf3799-b89c-4931-92b8-8f663e5a28d4",
   "metadata": {},
   "outputs": [
    {
     "name": "stdout",
     "output_type": "stream",
     "text": [
      "True\n"
     ]
    }
   ],
   "source": [
    "a='987456'\n",
    "b=a.isnumeric()\n",
    "print (b)"
   ]
  },
  {
   "cell_type": "code",
   "execution_count": 168,
   "id": "ecd7b728-710c-41f9-b37e-c15863954a66",
   "metadata": {},
   "outputs": [
    {
     "name": "stdout",
     "output_type": "stream",
     "text": [
      "False\n"
     ]
    }
   ],
   "source": [
    "a='987.456'\n",
    "b=a.isnumeric()\n",
    "print (b)"
   ]
  },
  {
   "cell_type": "markdown",
   "id": "6d876e89-d0f2-4ac1-b600-790391e8e0a0",
   "metadata": {},
   "source": [
    "# 18-Join"
   ]
  },
  {
   "cell_type": "code",
   "execution_count": 175,
   "id": "e16d4c41-0c0c-4b18-8578-2de9fe9808fb",
   "metadata": {},
   "outputs": [
    {
     "name": "stdout",
     "output_type": "stream",
     "text": [
      "Apple-----is-----red\n"
     ]
    }
   ],
   "source": [
    "a=('Apple','is','red')\n",
    "b='-----'.join(a)\n",
    "print (b)"
   ]
  },
  {
   "cell_type": "code",
   "execution_count": 177,
   "id": "e61a73fe-f364-4b89-b74d-e0e48c8c0b76",
   "metadata": {},
   "outputs": [
    {
     "name": "stdout",
     "output_type": "stream",
     "text": [
      "Tiger-----is-----King\n"
     ]
    }
   ],
   "source": [
    "a=('Tiger','is','King')\n",
    "b='-----'.join(a)\n",
    "print (b)"
   ]
  },
  {
   "cell_type": "markdown",
   "id": "a6f1af06-a245-40bc-91ed-9a687a52a3d2",
   "metadata": {},
   "source": [
    "# 19-Ljust"
   ]
  },
  {
   "cell_type": "markdown",
   "id": "272ceec4-6271-4bc8-a6c5-76627279cac9",
   "metadata": {},
   "source": [
    "a=\"Cricket\"\n",
    "b=a.ljust(20)\n",
    "print (b,\"my favourite game.\")"
   ]
  },
  {
   "cell_type": "code",
   "execution_count": 184,
   "id": "c2899f44-b44e-4bc7-b875-86d85c003024",
   "metadata": {},
   "outputs": [
    {
     "name": "stdout",
     "output_type": "stream",
     "text": [
      "I          like dancing.\n"
     ]
    }
   ],
   "source": [
    "a=\"I\"\n",
    "b=a.ljust(10)\n",
    "print (b,\"like dancing.\")"
   ]
  },
  {
   "cell_type": "markdown",
   "id": "31a9e2ee-5d55-4932-abc9-40a11f27fe8a",
   "metadata": {},
   "source": [
    "# 20-Replace"
   ]
  },
  {
   "cell_type": "code",
   "execution_count": 199,
   "id": "15d4e9af-5e8b-4828-a38e-c7ca466d0ef5",
   "metadata": {},
   "outputs": [
    {
     "name": "stdout",
     "output_type": "stream",
     "text": [
      "We need to stay safe\n"
     ]
    }
   ],
   "source": [
    "a=\"We need to stay unsafe\"\n",
    "b=a.replace(\"unsafe\",\"safe\")\n",
    "print (b)"
   ]
  },
  {
   "cell_type": "code",
   "execution_count": 203,
   "id": "ab9c2e89-2385-4f13-bd35-bc95c72843a4",
   "metadata": {},
   "outputs": [
    {
     "name": "stdout",
     "output_type": "stream",
     "text": [
      "I am very happy\n"
     ]
    }
   ],
   "source": [
    "a=\"I am very unhappy\"\n",
    "b=a.replace(\"unhappy\",\"happy\")\n",
    "print (b)"
   ]
  },
  {
   "cell_type": "markdown",
   "id": "2aa937ca-46bc-4f7b-a83c-3f8c969e1b8f",
   "metadata": {},
   "source": [
    "# 21-Rsplit"
   ]
  },
  {
   "cell_type": "code",
   "execution_count": 206,
   "id": "b43c6860-da90-4907-8245-0d4cc88a181c",
   "metadata": {},
   "outputs": [
    {
     "name": "stdout",
     "output_type": "stream",
     "text": [
      "['Rose', 'Lotus', 'Hibicous']\n"
     ]
    }
   ],
   "source": [
    "a=\"Rose,Lotus,Hibicous\"\n",
    "b=a.rsplit(\",\")\n",
    "print (b)"
   ]
  },
  {
   "cell_type": "code",
   "execution_count": 208,
   "id": "572af2bc-4296-4de6-aaa0-3030231d7e49",
   "metadata": {},
   "outputs": [
    {
     "name": "stdout",
     "output_type": "stream",
     "text": [
      "['Apple', 'Banana', 'Cherry']\n"
     ]
    }
   ],
   "source": [
    "a=\"Apple,Banana,Cherry\"\n",
    "b=a.rsplit(\",\")\n",
    "print (b)"
   ]
  },
  {
   "cell_type": "markdown",
   "id": "57fdac94-5125-45d1-9cc0-df6b760c770d",
   "metadata": {},
   "source": [
    "# 22-Splitlines"
   ]
  },
  {
   "cell_type": "code",
   "execution_count": 235,
   "id": "b9a22efb-632a-41b4-8914-a255c76dadd4",
   "metadata": {},
   "outputs": [
    {
     "name": "stdout",
     "output_type": "stream",
     "text": [
      "['Thanks for coming', 'Welcome to my house']\n"
     ]
    }
   ],
   "source": [
    "a = \"Thanks for coming\\nWelcome to my house\"\n",
    "b=a.splitlines()\n",
    "print (b)"
   ]
  },
  {
   "cell_type": "code",
   "execution_count": 237,
   "id": "07345ebe-3fe0-484f-ac6b-6ac29acacdba",
   "metadata": {},
   "outputs": [
    {
     "name": "stdout",
     "output_type": "stream",
     "text": [
      "['I am Aman', 'studying in 9th class']\n"
     ]
    }
   ],
   "source": [
    "a = \"I am Aman\\nstudying in 9th class\"\n",
    "b=a.splitlines()\n",
    "print (b)"
   ]
  },
  {
   "cell_type": "markdown",
   "id": "07d57511-eca0-4a98-b7b0-bf2eafbdbd21",
   "metadata": {},
   "source": [
    "# 23-Swapcase"
   ]
  },
  {
   "cell_type": "code",
   "execution_count": 240,
   "id": "7091d901-e3a0-4aa3-8ac9-6216ecfee068",
   "metadata": {},
   "outputs": [
    {
     "name": "stdout",
     "output_type": "stream",
     "text": [
      "My PeT nAmE iS tOny\n"
     ]
    }
   ],
   "source": [
    "a=\"mY pEt NaMe Is ToNY\"\n",
    "b=a.swapcase()\n",
    "print(b)"
   ]
  },
  {
   "cell_type": "code",
   "execution_count": 244,
   "id": "1d683f06-f2d8-4b4f-be6b-f2456083f899",
   "metadata": {},
   "outputs": [
    {
     "name": "stdout",
     "output_type": "stream",
     "text": [
      "I like to see hasya jatra\n"
     ]
    }
   ],
   "source": [
    "a=\"i LIKE TO SEE HASYA JATRA\"\n",
    "b=a.swapcase()\n",
    "print(b)"
   ]
  },
  {
   "cell_type": "markdown",
   "id": "f000718c-748a-4a1a-954c-4016f5328ad2",
   "metadata": {},
   "source": [
    "# 24-Title"
   ]
  },
  {
   "cell_type": "code",
   "execution_count": 251,
   "id": "22433903-f14b-4f46-9808-9c3a6a582c8c",
   "metadata": {},
   "outputs": [
    {
     "name": "stdout",
     "output_type": "stream",
     "text": [
      "This Is Basic Task\n"
     ]
    }
   ],
   "source": [
    "a=\"This Is Basic Task\"\n",
    "b=a.title()\n",
    "print(b)"
   ]
  },
  {
   "cell_type": "code",
   "execution_count": 253,
   "id": "1c8d9420-b40c-4e1b-95bb-4864ec93b721",
   "metadata": {},
   "outputs": [
    {
     "name": "stdout",
     "output_type": "stream",
     "text": [
      "Data Analytics Task\n"
     ]
    }
   ],
   "source": [
    "a=\"Data Analytics Task\"\n",
    "b=a.title()\n",
    "print(b)"
   ]
  },
  {
   "cell_type": "markdown",
   "id": "ef6b203b-5c97-49a5-a878-bac007491a7f",
   "metadata": {},
   "source": [
    "# 25-Zfill"
   ]
  },
  {
   "cell_type": "code",
   "execution_count": 258,
   "id": "005666ad-6a2b-405b-a9fb-57f288043c68",
   "metadata": {},
   "outputs": [
    {
     "name": "stdout",
     "output_type": "stream",
     "text": [
      "0000004333\n"
     ]
    }
   ],
   "source": [
    "a=\"4333\"\n",
    "b=a.zfill(10)\n",
    "print(b)"
   ]
  },
  {
   "cell_type": "code",
   "execution_count": 260,
   "id": "8b49f986-63bf-4d12-92bb-583b5e6ea349",
   "metadata": {},
   "outputs": [
    {
     "name": "stdout",
     "output_type": "stream",
     "text": [
      "0000009203\n"
     ]
    }
   ],
   "source": [
    "a=\"9203\"\n",
    "b=a.zfill(10)\n",
    "print(b)"
   ]
  },
  {
   "cell_type": "code",
   "execution_count": null,
   "id": "ca469c79-1784-4409-a72f-a52031c00452",
   "metadata": {},
   "outputs": [],
   "source": []
  }
 ],
 "metadata": {
  "kernelspec": {
   "display_name": "Python 3 (ipykernel)",
   "language": "python",
   "name": "python3"
  },
  "language_info": {
   "codemirror_mode": {
    "name": "ipython",
    "version": 3
   },
   "file_extension": ".py",
   "mimetype": "text/x-python",
   "name": "python",
   "nbconvert_exporter": "python",
   "pygments_lexer": "ipython3",
   "version": "3.12.4"
  }
 },
 "nbformat": 4,
 "nbformat_minor": 5
}
